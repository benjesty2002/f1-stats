{
 "cells": [
  {
   "cell_type": "code",
   "execution_count": 49,
   "metadata": {},
   "outputs": [],
   "source": [
    "import pandas as pd\n",
    "import matplotlib.pyplot as plt\n",
    "\n",
    "\n"
   ]
  },
  {
   "cell_type": "code",
   "execution_count": 68,
   "metadata": {},
   "outputs": [
    {
     "data": {
      "application/vnd.microsoft.datawrangler.viewer.v0+json": {
       "columns": [
        {
         "name": "index",
         "rawType": "int64",
         "type": "integer"
        },
        {
         "name": "end_race_year",
         "rawType": "int64",
         "type": "integer"
        },
        {
         "name": "end_race_round",
         "rawType": "int64",
         "type": "integer"
        },
        {
         "name": "end_race_name",
         "rawType": "object",
         "type": "string"
        }
       ],
       "conversionMethod": "pd.DataFrame",
       "ref": "c866573b-45dd-49eb-84e9-d25b2063eacc",
       "rows": [
        [
         "497",
         "2024",
         "1",
         "Bahrain Grand Prix"
        ],
        [
         "475",
         "2024",
         "2",
         "Saudi Arabian Grand Prix"
        ],
        [
         "453",
         "2024",
         "3",
         "Australian Grand Prix"
        ],
        [
         "431",
         "2024",
         "4",
         "Japanese Grand Prix"
        ],
        [
         "410",
         "2024",
         "5",
         "Chinese Grand Prix"
        ],
        [
         "389",
         "2024",
         "6",
         "Miami Grand Prix"
        ],
        [
         "368",
         "2024",
         "7",
         "Emilia Romagna Grand Prix"
        ],
        [
         "347",
         "2024",
         "8",
         "Monaco Grand Prix"
        ],
        [
         "326",
         "2024",
         "9",
         "Canadian Grand Prix"
        ],
        [
         "305",
         "2024",
         "10",
         "Spanish Grand Prix"
        ],
        [
         "284",
         "2024",
         "11",
         "Austrian Grand Prix"
        ],
        [
         "264",
         "2024",
         "12",
         "British Grand Prix"
        ],
        [
         "244",
         "2024",
         "13",
         "Hungarian Grand Prix"
        ],
        [
         "224",
         "2024",
         "14",
         "Belgian Grand Prix"
        ],
        [
         "204",
         "2024",
         "15",
         "Dutch Grand Prix"
        ],
        [
         "183",
         "2024",
         "16",
         "Italian Grand Prix"
        ],
        [
         "161",
         "2024",
         "17",
         "Azerbaijan Grand Prix"
        ],
        [
         "139",
         "2024",
         "18",
         "Singapore Grand Prix"
        ],
        [
         "116",
         "2024",
         "19",
         "United States Grand Prix"
        ],
        [
         "93",
         "2024",
         "20",
         "Mexico City Grand Prix"
        ],
        [
         "70",
         "2024",
         "21",
         "São Paulo Grand Prix"
        ],
        [
         "47",
         "2024",
         "22",
         "Las Vegas Grand Prix"
        ],
        [
         "24",
         "2024",
         "23",
         "Qatar Grand Prix"
        ],
        [
         "0",
         "2024",
         "24",
         "Abu Dhabi Grand Prix"
        ]
       ],
       "shape": {
        "columns": 3,
        "rows": 24
       }
      },
      "text/html": [
       "<div>\n",
       "<style scoped>\n",
       "    .dataframe tbody tr th:only-of-type {\n",
       "        vertical-align: middle;\n",
       "    }\n",
       "\n",
       "    .dataframe tbody tr th {\n",
       "        vertical-align: top;\n",
       "    }\n",
       "\n",
       "    .dataframe thead th {\n",
       "        text-align: right;\n",
       "    }\n",
       "</style>\n",
       "<table border=\"1\" class=\"dataframe\">\n",
       "  <thead>\n",
       "    <tr style=\"text-align: right;\">\n",
       "      <th></th>\n",
       "      <th>end_race_year</th>\n",
       "      <th>end_race_round</th>\n",
       "      <th>end_race_name</th>\n",
       "    </tr>\n",
       "  </thead>\n",
       "  <tbody>\n",
       "    <tr>\n",
       "      <th>497</th>\n",
       "      <td>2024</td>\n",
       "      <td>1</td>\n",
       "      <td>Bahrain Grand Prix</td>\n",
       "    </tr>\n",
       "    <tr>\n",
       "      <th>475</th>\n",
       "      <td>2024</td>\n",
       "      <td>2</td>\n",
       "      <td>Saudi Arabian Grand Prix</td>\n",
       "    </tr>\n",
       "    <tr>\n",
       "      <th>453</th>\n",
       "      <td>2024</td>\n",
       "      <td>3</td>\n",
       "      <td>Australian Grand Prix</td>\n",
       "    </tr>\n",
       "    <tr>\n",
       "      <th>431</th>\n",
       "      <td>2024</td>\n",
       "      <td>4</td>\n",
       "      <td>Japanese Grand Prix</td>\n",
       "    </tr>\n",
       "    <tr>\n",
       "      <th>410</th>\n",
       "      <td>2024</td>\n",
       "      <td>5</td>\n",
       "      <td>Chinese Grand Prix</td>\n",
       "    </tr>\n",
       "    <tr>\n",
       "      <th>389</th>\n",
       "      <td>2024</td>\n",
       "      <td>6</td>\n",
       "      <td>Miami Grand Prix</td>\n",
       "    </tr>\n",
       "    <tr>\n",
       "      <th>368</th>\n",
       "      <td>2024</td>\n",
       "      <td>7</td>\n",
       "      <td>Emilia Romagna Grand Prix</td>\n",
       "    </tr>\n",
       "    <tr>\n",
       "      <th>347</th>\n",
       "      <td>2024</td>\n",
       "      <td>8</td>\n",
       "      <td>Monaco Grand Prix</td>\n",
       "    </tr>\n",
       "    <tr>\n",
       "      <th>326</th>\n",
       "      <td>2024</td>\n",
       "      <td>9</td>\n",
       "      <td>Canadian Grand Prix</td>\n",
       "    </tr>\n",
       "    <tr>\n",
       "      <th>305</th>\n",
       "      <td>2024</td>\n",
       "      <td>10</td>\n",
       "      <td>Spanish Grand Prix</td>\n",
       "    </tr>\n",
       "    <tr>\n",
       "      <th>284</th>\n",
       "      <td>2024</td>\n",
       "      <td>11</td>\n",
       "      <td>Austrian Grand Prix</td>\n",
       "    </tr>\n",
       "    <tr>\n",
       "      <th>264</th>\n",
       "      <td>2024</td>\n",
       "      <td>12</td>\n",
       "      <td>British Grand Prix</td>\n",
       "    </tr>\n",
       "    <tr>\n",
       "      <th>244</th>\n",
       "      <td>2024</td>\n",
       "      <td>13</td>\n",
       "      <td>Hungarian Grand Prix</td>\n",
       "    </tr>\n",
       "    <tr>\n",
       "      <th>224</th>\n",
       "      <td>2024</td>\n",
       "      <td>14</td>\n",
       "      <td>Belgian Grand Prix</td>\n",
       "    </tr>\n",
       "    <tr>\n",
       "      <th>204</th>\n",
       "      <td>2024</td>\n",
       "      <td>15</td>\n",
       "      <td>Dutch Grand Prix</td>\n",
       "    </tr>\n",
       "    <tr>\n",
       "      <th>183</th>\n",
       "      <td>2024</td>\n",
       "      <td>16</td>\n",
       "      <td>Italian Grand Prix</td>\n",
       "    </tr>\n",
       "    <tr>\n",
       "      <th>161</th>\n",
       "      <td>2024</td>\n",
       "      <td>17</td>\n",
       "      <td>Azerbaijan Grand Prix</td>\n",
       "    </tr>\n",
       "    <tr>\n",
       "      <th>139</th>\n",
       "      <td>2024</td>\n",
       "      <td>18</td>\n",
       "      <td>Singapore Grand Prix</td>\n",
       "    </tr>\n",
       "    <tr>\n",
       "      <th>116</th>\n",
       "      <td>2024</td>\n",
       "      <td>19</td>\n",
       "      <td>United States Grand Prix</td>\n",
       "    </tr>\n",
       "    <tr>\n",
       "      <th>93</th>\n",
       "      <td>2024</td>\n",
       "      <td>20</td>\n",
       "      <td>Mexico City Grand Prix</td>\n",
       "    </tr>\n",
       "    <tr>\n",
       "      <th>70</th>\n",
       "      <td>2024</td>\n",
       "      <td>21</td>\n",
       "      <td>São Paulo Grand Prix</td>\n",
       "    </tr>\n",
       "    <tr>\n",
       "      <th>47</th>\n",
       "      <td>2024</td>\n",
       "      <td>22</td>\n",
       "      <td>Las Vegas Grand Prix</td>\n",
       "    </tr>\n",
       "    <tr>\n",
       "      <th>24</th>\n",
       "      <td>2024</td>\n",
       "      <td>23</td>\n",
       "      <td>Qatar Grand Prix</td>\n",
       "    </tr>\n",
       "    <tr>\n",
       "      <th>0</th>\n",
       "      <td>2024</td>\n",
       "      <td>24</td>\n",
       "      <td>Abu Dhabi Grand Prix</td>\n",
       "    </tr>\n",
       "  </tbody>\n",
       "</table>\n",
       "</div>"
      ],
      "text/plain": [
       "     end_race_year  end_race_round              end_race_name\n",
       "497           2024               1         Bahrain Grand Prix\n",
       "475           2024               2   Saudi Arabian Grand Prix\n",
       "453           2024               3      Australian Grand Prix\n",
       "431           2024               4        Japanese Grand Prix\n",
       "410           2024               5         Chinese Grand Prix\n",
       "389           2024               6           Miami Grand Prix\n",
       "368           2024               7  Emilia Romagna Grand Prix\n",
       "347           2024               8          Monaco Grand Prix\n",
       "326           2024               9        Canadian Grand Prix\n",
       "305           2024              10         Spanish Grand Prix\n",
       "284           2024              11        Austrian Grand Prix\n",
       "264           2024              12         British Grand Prix\n",
       "244           2024              13       Hungarian Grand Prix\n",
       "224           2024              14         Belgian Grand Prix\n",
       "204           2024              15           Dutch Grand Prix\n",
       "183           2024              16         Italian Grand Prix\n",
       "161           2024              17      Azerbaijan Grand Prix\n",
       "139           2024              18       Singapore Grand Prix\n",
       "116           2024              19   United States Grand Prix\n",
       "93            2024              20     Mexico City Grand Prix\n",
       "70            2024              21       São Paulo Grand Prix\n",
       "47            2024              22       Las Vegas Grand Prix\n",
       "24            2024              23           Qatar Grand Prix\n",
       "0             2024              24       Abu Dhabi Grand Prix"
      ]
     },
     "execution_count": 68,
     "metadata": {},
     "output_type": "execute_result"
    }
   ],
   "source": [
    "YEARS = [2024, 2024]\n",
    "POSITIONS = [1, 5]\n",
    "\n",
    "with open(\"/Users/benjesty/projects/f1-stats/query_results/rolling_championship.csv\", \"r\") as f:\n",
    "    rc_full = pd.read_csv(f)\n",
    "\n",
    "rc_full = rc_full.sort_values([\"start_race_year\", \"start_race_round\", \"points\"], ascending=[True, True, False])\n",
    "\n",
    "# rc_full[rc_full[\"driver_name\"]]\n",
    "rc_full = rc_full[\n",
    "    (rc_full[\"end_race_year\"] >= YEARS[0]) \n",
    "    & (rc_full[\"end_race_year\"] <= YEARS[1]) \n",
    "    & (rc_full[\"position\"] >= POSITIONS[0]) \n",
    "    & (rc_full[\"position\"] <= POSITIONS[1])\n",
    "]\n",
    "\n",
    "drivers = rc_full[\"driver_name\"].unique()\n",
    "races = rc_full[[\"end_race_year\", \"end_race_round\", \"end_race_name\"]].drop_duplicates()\n",
    "\n",
    "races"
   ]
  },
  {
   "cell_type": "code",
   "execution_count": 69,
   "metadata": {},
   "outputs": [
    {
     "data": {
      "image/png": "[encoded data removed]",
      "text/plain": [
       "<Figure size 640x480 with 1 Axes>"
      ]
     },
     "metadata": {},
     "output_type": "display_data"
    }
   ],
   "source": [
    "inds = pd.MultiIndex.from_frame(races[[\"end_race_year\", \"end_race_round\"]])\n",
    "\n",
    "df = pd.DataFrame(data=None, index=inds, columns=drivers)\n",
    "\n",
    "for _, row in rc_full.iterrows():\n",
    "    df.at[(row[\"end_race_year\"], row[\"end_race_round\"]), row[\"driver_name\"]] = row[\"points\"]\n",
    "\n",
    "fig = df.plot()\n",
    "fig.legend(bbox_to_anchor=(1,1))\n",
    "plt.show()"
   ]
  }
 ],
 "metadata": {
  "kernelspec": {
   "display_name": ".venv",
   "language": "python",
   "name": "python3"
  },
  "language_info": {
   "codemirror_mode": {
    "name": "ipython",
    "version": 3
   },
   "file_extension": ".py",
   "mimetype": "text/x-python",
   "name": "python",
   "nbconvert_exporter": "python",
   "pygments_lexer": "ipython3",
   "version": "3.9.6"
  }
 },
 "nbformat": 4,
 "nbformat_minor": 2
}
